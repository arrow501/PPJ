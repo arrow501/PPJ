{
 "cells": [
  {
   "cell_type": "markdown",
   "id": "df1ea13d",
   "metadata": {},
   "source": [
    "# Tablice\n",
    "\n"
   ]
  },
  {
   "cell_type": "code",
   "execution_count": 1,
   "id": "8a4ecf5a-c6d8-4dd4-9ed7-03a6942ac7cf",
   "metadata": {
    "tags": [],
    "vscode": {
     "languageId": "java"
    }
   },
   "outputs": [
    {
     "data": {
      "text/plain": [
       "[2, 2, 6, 8, 5, 7, 1, 7, 2, 5, 4, 4, 6, 0, 9, 3, 5, 0, 4, 9]"
      ]
     },
     "execution_count": 1,
     "metadata": {},
     "output_type": "execute_result"
    }
   ],
   "source": [
    "import java.util.Arrays;\n",
    "int[] arr = new int[20];\n",
    "for(int i = 0; i < arr.length; i++){\n",
    "    arr[i] = (int) (Math.random() * 10);\n",
    "}\n",
    "\n",
    "Arrays.toString(arr);"
   ]
  },
  {
   "cell_type": "code",
   "execution_count": null,
   "id": "2e9d04d2-27a0-482b-89fa-1e39a93319ce",
   "metadata": {
    "vscode": {
     "languageId": "java"
    }
   },
   "outputs": [
    {
     "name": "stdout",
     "output_type": "stream",
     "text": [
      "[3, 2, 1]\n",
      "[8, 5, 7]\n"
     ]
    }
   ],
   "source": [
    "int[][] arr2D = {{3,2,1}, {8,5,7}};\n",
    "\n",
    "for(int[] element: arr2D){\n",
    "    System.out.println(Arrays.toString(element));\n",
    "}"
   ]
  },
  {
   "cell_type": "code",
   "execution_count": 18,
   "id": "4defe538",
   "metadata": {
    "vscode": {
     "languageId": "java"
    }
   },
   "outputs": [],
   "source": [
    "int[][] arr = new int[10][10];\n",
    "\n",
    "for(int i = 0; i < arr.length; i++){\n",
    "    for(int j = 0; j < )\n",
    "}\n",
    "\n"
   ]
  },
  {
   "cell_type": "markdown",
   "id": "c0a39879",
   "metadata": {},
   "source": [
    "## Metody\n",
    "Procedura - nic nie zwraca\n",
    "Funkcja - zwraca wynik lub nie\n",
    "Metoda - Wywoływana na rzecz obiektu\n",
    "\n",
    "def: Metoda jest wyodrębnionym i nazwanym opisem czynności definiiowanym w ciele klasa\n",
    "\n",
    "Ciało metody:\n",
    "- może zawierać instrukcje\n",
    "- nie wolno specyfikować dostępu zmiennych"
   ]
  },
  {
   "cell_type": "code",
   "execution_count": null,
   "id": "b4c1f110",
   "metadata": {
    "tags": [],
    "vscode": {
     "languageId": "java"
    }
   },
   "outputs": [],
   "source": [
    "public static void name(int argument, String argument2){\n",
    "    //does something\n",
    "}\n",
    "private void name() {\n",
    "    int fix1 = 10, fix2;\n",
    "    System.out.print(fix1);\n",
    "    //System.out.print(fix2); incorrect\n",
    "}\n"
   ]
  },
  {
   "cell_type": "markdown",
   "id": "bf8cc078",
   "metadata": {
    "vscode": {
     "languageId": "java"
    }
   },
   "source": [
    "# Paradygmaty\n",
    "\n",
    "def: przyjęty spodób widzenia rzeczywistości w danej dziedzinie\n",
    "\n",
    "Paradygmat programowania definiuje sposób patrzenia programisty na przepływ sterowania i wykonywania programu komputerowego."
   ]
  },
  {
   "cell_type": "code",
   "execution_count": 46,
   "id": "ce3f2530",
   "metadata": {
    "vscode": {
     "languageId": "java"
    }
   },
   "outputs": [],
   "source": [
    "public class Cookie {\n",
    "    private int weight;\n",
    "    private String[] ingredients;\n",
    "    public Cookie(int weight, String[] ingredients){\n",
    "        this.weight = weight;\n",
    "        this.ingredients = ingredients;\n",
    "    }\n",
    "    public int getWeight(){\n",
    "        return this.weight;\n",
    "    }\n",
    "    public String[] getIngredients(){\n",
    "        return this.ingredients;\n",
    "    }\n",
    "    public void print(){\n",
    "        System.out.println( \"weight: \" + getWeight() );\n",
    "        System.out.println( \"Ingredients: \");\n",
    "        for(String ingredient: getIngredients()){\n",
    "            System.out.print(ingredient + \", \");\n",
    "        }\n",
    "        \n",
    "    }\n",
    "}"
   ]
  },
  {
   "cell_type": "code",
   "execution_count": 47,
   "id": "b68fbee3",
   "metadata": {
    "vscode": {
     "languageId": "java"
    }
   },
   "outputs": [
    {
     "name": "stdout",
     "output_type": "stream",
     "text": [
      "weight: 10\n",
      "Ingredients: \n",
      "flour, cocoa, weed, "
     ]
    }
   ],
   "source": [
    "String brownieIngredients[] = {\"flour\",\"cocoa\",\"weed\"};\n",
    "Cookie weedBrownie = new Cookie(10,brownieIngredients);\n",
    "weedBrownie.print();\n"
   ]
  },
  {
   "attachments": {},
   "cell_type": "markdown",
   "id": "5d9fdb1d",
   "metadata": {},
   "source": [
    "# Obiektowość\n",
    "\n",
    "- Klasa jest przepisem na podstawie którego tworzone są obiekty - instancje klasy\n",
    "- obiekty są tworzone w procesie fabrykacji ( runtime )\n",
    "- zadaniem konstuktora jest nadanie wartości polom obiektu\n",
    "- słowo kluczowe **this** odnosi się do tej konkretnej instancji obiektu"
   ]
  },
  {
   "cell_type": "code",
   "execution_count": 2,
   "id": "58a623ca",
   "metadata": {
    "vscode": {
     "languageId": "java"
    }
   },
   "outputs": [],
   "source": [
    "// Class nesting and this\n",
    "\n",
    "\n",
    "public class Outer{\n",
    "    int number;\n",
    "    public void method(){\n",
    "        class Inner{\n",
    "            int number;\n",
    "            public void method(){\n",
    "                this.number = 7; // Inner.number\n",
    "                Outer.this.number = 7;// Outer.number\n",
    "            }\n",
    "        }\n",
    "    }\n",
    "}"
   ]
  },
  {
   "attachments": {},
   "cell_type": "markdown",
   "id": "a401bced",
   "metadata": {},
   "source": [
    "# Dziedziczenie:\n"
   ]
  },
  {
   "cell_type": "code",
   "execution_count": 3,
   "id": "6f44c9ee",
   "metadata": {
    "vscode": {
     "languageId": "java"
    }
   },
   "outputs": [],
   "source": [
    "class Person{\n",
    "    String name;\n",
    "    int birthYear;\n",
    "}\n",
    "class Student{\n",
    "    String name;\n",
    "    int birthYear;\n",
    "\n",
    "    int sNumber;\n",
    "}"
   ]
  },
  {
   "cell_type": "code",
   "execution_count": 7,
   "id": "746c35a5",
   "metadata": {
    "vscode": {
     "languageId": "java"
    }
   },
   "outputs": [
    {
     "data": {
      "text/plain": [
       "REPL.$JShell$15B$Student@37e772c7"
      ]
     },
     "execution_count": 7,
     "metadata": {},
     "output_type": "execute_result"
    }
   ],
   "source": [
    "public class Person {\n",
    "    protected String name;\n",
    "    protected int birthYear;\n",
    "    public Person(String name, int birthYear){\n",
    "        this.name = name;\n",
    "        this.birthYear = birthYear;\n",
    "    }\n",
    "}\n",
    "\n",
    "public class Student\n",
    "    extends Person{\n",
    "    \n",
    "    public Student(String name, int birthYear, int sNumber){\n",
    "        super(name,birthYear);\n",
    "        this.sNumber = sNumber;\n",
    "    }\n",
    "    protected int sNumber;\n",
    "\n",
    "}\n",
    "\n",
    "Student Arrow = new Student(); // \"Arrow\", 2001\n",
    "Arrow.toString();"
   ]
  }
 ],
 "metadata": {
  "kernelspec": {
   "display_name": "Java",
   "language": "java",
   "name": "java"
  },
  "language_info": {
   "codemirror_mode": "java",
   "file_extension": ".jshell",
   "mimetype": "text/x-java-source",
   "name": "Java",
   "pygments_lexer": "java",
   "version": "19.0.1+10-21"
  },
  "vscode": {
   "interpreter": {
    "hash": "fdb543c4eaccb2c43ef1f99da41737654f0c8d7aa960b0cd65bcf594bfbe5a9e"
   }
  }
 },
 "nbformat": 4,
 "nbformat_minor": 5
}
