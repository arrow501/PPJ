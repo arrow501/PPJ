{
 "cells": [
  {
   "cell_type": "markdown",
   "metadata": {},
   "source": [
    "## Metody\n",
    "Procedura - nic nie zwraca\n",
    "Funkcja - zwraca wynik lub nie\n",
    "Metoda - Wywoływana na rzecz obiektu\n",
    "\n",
    "def: Metoda jest wyodrębnionym i nazwanym opisem czynności definiiowanym w ciele klasa"
   ]
  },
  {
   "cell_type": "code",
   "execution_count": 8,
   "metadata": {
    "tags": [],
    "vscode": {
     "languageId": "java"
    }
   },
   "outputs": [],
   "source": [
    "public static void name(int argument, String argument2){\n",
    "    //does something\n",
    "}\n",
    "private void name() {\n",
    "    int fix1 = 10, fix2;\n",
    "    System.out.print(fix1);\n",
    "    //System.out.print(fix2); incorrect\n",
    "}\n"
   ]
  },
  {
   "cell_type": "markdown",
   "metadata": {},
   "source": [
    "Ciało metody:\n",
    "- może zawierać instrukcje\n",
    "- nie wolno specyfikować dostępu zmiennych"
   ]
  },
  {
   "cell_type": "code",
   "execution_count": null,
   "metadata": {
    "vscode": {
     "languageId": "java"
    }
   },
   "outputs": [],
   "source": [
    " "
   ]
  }
 ],
 "metadata": {
  "kernelspec": {
   "display_name": "Java",
   "language": "java",
   "name": "java"
  },
  "language_info": {
   "codemirror_mode": "java",
   "file_extension": ".jshell",
   "mimetype": "text/x-java-source",
   "name": "Java",
   "pygments_lexer": "java",
   "version": "19.0.1+10-21"
  },
  "orig_nbformat": 4
 },
 "nbformat": 4,
 "nbformat_minor": 2
}
