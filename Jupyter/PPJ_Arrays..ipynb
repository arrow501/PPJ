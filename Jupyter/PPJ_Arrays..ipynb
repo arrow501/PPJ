{
 "cells": [
  {
   "cell_type": "markdown",
   "id": "df1ea13d",
   "metadata": {},
   "source": [
    "# Tablice\n",
    "\n"
   ]
  },
  {
   "cell_type": "code",
   "execution_count": 11,
   "id": "8a4ecf5a-c6d8-4dd4-9ed7-03a6942ac7cf",
   "metadata": {
    "tags": []
   },
   "outputs": [
    {
     "data": {
      "text/plain": [
       "[2, 6, 7, 0, 4, 8, 6, 8, 3, 5, 8, 9, 4, 9, 6, 0, 7, 7, 3, 6]"
      ]
     },
     "execution_count": 11,
     "metadata": {},
     "output_type": "execute_result"
    }
   ],
   "source": [
    "import java.util.Arrays;\n",
    "int[] arr = new int[20];\n",
    "for(int i = 0; i < arr.length; i++){\n",
    "    arr[i] = (int) (Math.random() * 10);\n",
    "}\n",
    "\n",
    "Arrays.toString(arr);"
   ]
  },
  {
   "cell_type": "code",
   "execution_count": 12,
   "id": "2e9d04d2-27a0-482b-89fa-1e39a93319ce",
   "metadata": {},
   "outputs": [
    {
     "name": "stdout",
     "output_type": "stream",
     "text": [
      "[3, 2, 1]\n",
      "[8, 5, 7]\n"
     ]
    }
   ],
   "source": [
    "int[][] arr2D = {{3,2,1}, {8,5,7}};\n",
    "\n",
    "for(int[] element: arr2D){\n",
    "    System.out.println(Arrays.toString(element));\n",
    "}"
   ]
  },
  {
   "cell_type": "code",
   "execution_count": 18,
   "id": "4defe538",
   "metadata": {},
   "outputs": [],
   "source": [
    "int[][] arr = new int[10][10];\n",
    "\n",
    "for(int i = 0; i < arr.length; i++){\n",
    "    for(int j = 0; j < )\n",
    "}\n",
    "\n"
   ]
  },
  {
   "cell_type": "markdown",
   "id": "c0a39879",
   "metadata": {},
   "source": [
    "## Metody\n",
    "Procedura - nic nie zwraca\n",
    "Funkcja - zwraca wynik lub nie\n",
    "Metoda - Wywoływana na rzecz obiektu\n",
    "\n",
    "def: Metoda jest wyodrębnionym i nazwanym opisem czynności definiiowanym w ciele klasa\n",
    "\n",
    "Ciało metody:\n",
    "- może zawierać instrukcje\n",
    "- nie wolno specyfikować dostępu zmiennych"
   ]
  },
  {
   "cell_type": "code",
   "execution_count": null,
   "id": "b4c1f110",
   "metadata": {
    "tags": []
   },
   "outputs": [],
   "source": [
    "public static void name(int argument, String argument2){\n",
    "    //does something\n",
    "}\n",
    "private void name() {\n",
    "    int fix1 = 10, fix2;\n",
    "    System.out.print(fix1);\n",
    "    //System.out.print(fix2); incorrect\n",
    "}\n"
   ]
  },
  {
   "cell_type": "markdown",
   "id": "bf8cc078",
   "metadata": {
    "vscode": {
     "languageId": "java"
    }
   },
   "source": [
    "# Paradygmaty\n",
    "\n",
    "def: przyjęty spodób widzenia rzeczywistości w danej dziedzinie\n",
    "\n",
    "Paradygmat programowania definiuje sposób patrzenia programisty na przepływ sterowania i wykonywania programu komputerowego."
   ]
  },
  {
   "cell_type": "code",
   "execution_count": null,
   "id": "ce3f2530",
   "metadata": {},
   "outputs": [],
   "source": [
    "public class Cookie{\n",
    "    int weight;\n",
    "    String[] ingredients;\n",
    "    public Cookie(weight, ingredients){\n",
    "        this.weight = weight;\n",
    "        this.ingredients = ingredients;\n",
    "    }\n",
    "}"
   ]
  }
 ],
 "metadata": {
  "kernelspec": {
   "display_name": "Java",
   "language": "java",
   "name": "java"
  },
  "language_info": {
   "codemirror_mode": "java",
   "file_extension": ".jshell",
   "mimetype": "text/x-java-source",
   "name": "java",
   "pygments_lexer": "java",
   "version": "19.0.1+10-21"
  }
 },
 "nbformat": 4,
 "nbformat_minor": 5
}
