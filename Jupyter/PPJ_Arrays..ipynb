{
 "cells": [
  {
   "cell_type": "markdown",
   "id": "df1ea13d",
   "metadata": {},
   "source": [
    "# Tablice\n",
    "\n"
   ]
  },
  {
   "cell_type": "code",
   "execution_count": null,
   "id": "8a4ecf5a-c6d8-4dd4-9ed7-03a6942ac7cf",
   "metadata": {
    "tags": [],
    "vscode": {
     "languageId": "java"
    }
   },
   "outputs": [
    {
     "ename": "",
     "evalue": "",
     "output_type": "error",
     "traceback": [
      "\u001b[1;31mFailed to start the Kernel. \n",
      "\u001b[1;31mUnknown option: -j\n",
      "\u001b[1;31musage: c:\\Users\\ADMIN\\AppData\\Local\\Programs\\Python\\Python37\\python.exe [option] ... [-c cmd | -m mod | file | -] [arg] ...\n",
      "\u001b[1;31mTry `python -h' for more information. \n",
      "\u001b[1;31mView Jupyter <a href='command:jupyter.viewOutput'>log</a> for further details."
     ]
    }
   ],
   "source": [
    "import java.util.Arrays;\n",
    "int[] arr = new int[20];\n",
    "for(int i = 0; i < arr.length; i++){\n",
    "    arr[i] = (int) (Math.random() * 10);\n",
    "}\n",
    "\n",
    "Arrays.toString(arr);"
   ]
  },
  {
   "cell_type": "code",
   "execution_count": null,
   "id": "2e9d04d2-27a0-482b-89fa-1e39a93319ce",
   "metadata": {
    "vscode": {
     "languageId": "java"
    }
   },
   "outputs": [
    {
     "name": "stdout",
     "output_type": "stream",
     "text": [
      "[3, 2, 1]\n",
      "[8, 5, 7]\n"
     ]
    }
   ],
   "source": [
    "int[][] arr2D = {{3,2,1}, {8,5,7}};\n",
    "\n",
    "for(int[] element: arr2D){\n",
    "    System.out.println(Arrays.toString(element));\n",
    "}"
   ]
  },
  {
   "cell_type": "code",
   "execution_count": 18,
   "id": "4defe538",
   "metadata": {
    "vscode": {
     "languageId": "java"
    }
   },
   "outputs": [],
   "source": [
    "int[][] arr = new int[10][10];\n",
    "\n",
    "for(int i = 0; i < arr.length; i++){\n",
    "    for(int j = 0; j < )\n",
    "}\n",
    "\n"
   ]
  },
  {
   "cell_type": "markdown",
   "id": "c0a39879",
   "metadata": {},
   "source": [
    "## Metody\n",
    "Procedura - nic nie zwraca\n",
    "Funkcja - zwraca wynik lub nie\n",
    "Metoda - Wywoływana na rzecz obiektu\n",
    "\n",
    "def: Metoda jest wyodrębnionym i nazwanym opisem czynności definiiowanym w ciele klasa\n",
    "\n",
    "Ciało metody:\n",
    "- może zawierać instrukcje\n",
    "- nie wolno specyfikować dostępu zmiennych"
   ]
  },
  {
   "cell_type": "code",
   "execution_count": null,
   "id": "b4c1f110",
   "metadata": {
    "tags": [],
    "vscode": {
     "languageId": "java"
    }
   },
   "outputs": [],
   "source": [
    "public static void name(int argument, String argument2){\n",
    "    //does something\n",
    "}\n",
    "private void name() {\n",
    "    int fix1 = 10, fix2;\n",
    "    System.out.print(fix1);\n",
    "    //System.out.print(fix2); incorrect\n",
    "}\n"
   ]
  },
  {
   "cell_type": "markdown",
   "id": "bf8cc078",
   "metadata": {
    "vscode": {
     "languageId": "java"
    }
   },
   "source": [
    "# Paradygmaty\n",
    "\n",
    "def: przyjęty spodób widzenia rzeczywistości w danej dziedzinie\n",
    "\n",
    "Paradygmat programowania definiuje sposób patrzenia programisty na przepływ sterowania i wykonywania programu komputerowego."
   ]
  },
  {
   "cell_type": "code",
   "execution_count": null,
   "id": "ce3f2530",
   "metadata": {
    "vscode": {
     "languageId": "java"
    }
   },
   "outputs": [
    {
     "ename": "",
     "evalue": "",
     "output_type": "error",
     "traceback": [
      "\u001b[1;31mFailed to start the Kernel. \n",
      "\u001b[1;31mUnknown option: -j\n",
      "\u001b[1;31musage: c:\\Users\\ADMIN\\AppData\\Local\\Programs\\Python\\Python37\\python.exe [option] ... [-c cmd | -m mod | file | -] [arg] ...\n",
      "\u001b[1;31mTry `python -h' for more information. \n",
      "\u001b[1;31mView Jupyter <a href='command:jupyter.viewOutput'>log</a> for further details."
     ]
    }
   ],
   "source": [
    "public class Cookie{\n",
    "    int weight;\n",
    "    String[] ingredients;\n",
    "    public Cookie(weight, ingredients){\n",
    "        this.weight = weight;\n",
    "        this.ingredients = ingredients;\n",
    "    }\n",
    "}"
   ]
  }
 ],
 "metadata": {
  "kernelspec": {
   "display_name": "Java",
   "language": "python",
   "name": "java"
  },
  "language_info": {
   "codemirror_mode": "java",
   "file_extension": ".jshell",
   "mimetype": "text/x-java-source",
   "name": "python",
   "pygments_lexer": "java",
   "version": "3.7.4 (tags/v3.7.4:e09359112e, Jul  8 2019, 20:34:20) [MSC v.1916 64 bit (AMD64)]"
  },
  "vscode": {
   "interpreter": {
    "hash": "fdb543c4eaccb2c43ef1f99da41737654f0c8d7aa960b0cd65bcf594bfbe5a9e"
   }
  }
 },
 "nbformat": 4,
 "nbformat_minor": 5
}
