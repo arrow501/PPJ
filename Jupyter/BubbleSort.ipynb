{
 "cells": [
  {
   "cell_type": "markdown",
   "metadata": {},
   "source": []
  },
  {
   "cell_type": "markdown",
   "metadata": {},
   "source": [
    "Bubble sort, bubble sort,\n",
    "Sorting items one by one,\n",
    "Swapping adjacent pairs,\n",
    "Until the list is done.\n",
    "\n",
    "Start with a boolean,\n",
    "Called \"sorted,\" set to \"false.\"\n",
    "Loop until it's true,\n",
    "Then the list is sorted, of course.\n",
    "\n",
    "Inside the loop,\n",
    "Set \"sorted\" to \"true.\"\n",
    "Then loop again,\n",
    "Comparing each pair,\n",
    "Swapping if they're out of order,\n",
    "Setting \"sorted\" to \"false\" once more.\n",
    "\n",
    "Repeat the process,\n",
    "Until \"sorted\" is true,\n",
    "And the list is sorted,\n",
    "Through and through.\n"
   ]
  }
 ],
 "metadata": {
  "language_info": {
   "name": "python"
  },
  "orig_nbformat": 4
 },
 "nbformat": 4,
 "nbformat_minor": 2
}
